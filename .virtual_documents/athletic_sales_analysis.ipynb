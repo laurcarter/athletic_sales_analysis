# Import Libraries and Dependencies
import pandas as pd





# Read the CSV files into DataFrames.
df_2020 = pd.read_csv('Resources/athletic_sales_2020.csv')
df_2021 = pd.read_csv('Resources/athletic_sales_2021.csv')


# Display the 2020 sales DataFrame
df_2020


# Display the 2021 sales DataFrame
df_2021





# Check the 2020 sales data types.
df_2020.info()


# Check the 2021 sales data types.
df_2021.info()





# Combine the 2020 and 2021 sales DataFrames on the rows and reset the index.
combined_df = pd.concat([df_2020, df_2021], axis=0)
combined_df = combined_df.reset_index(drop=True)
combined_df


# Check if any values are null.
null_check = combined_df.isnull().sum()
null_check


# Check the data type of each column
combined_df.info()


# Convert the "invoice_date" to a datetime datatype
combined_df['invoice_date'] = pd.to_datetime(combined_df['invoice_date'], format='%m/%d/%y')
combined_df


# Confirm that the "invoice_date" data type has been changed.
combined_df.info()








# Show the number products sold for region, state, and city.
# Rename the sum to "Total_Products_Sold".
total_products_sold = combined_df.groupby(['region', 'state', 'city'])['units_sold'].sum().reset_index()
total_products_sold = total_products_sold.rename(columns={'units_sold': 'Total_Products_Sold'})
# Show the top 5 results.
total_products_sold = total_products_sold.sort_values(by='Total_Products_Sold', ascending=False)
total_products_sold.head()





# Show the number products sold for region, state, and city.
pivot_table_result = combined_df.pivot_table(
    values='units_sold', 
    index=['region', 'state', 'city'], 
    aggfunc='sum'
)

# Rename the "units_sold" column to "Total_Products_Sold"
pivot_table_result = pivot_table_result.rename(columns={'units_sold': 'Total_Products_Sold'})

# Show the top 5 results.
pivot_table_result = pivot_table_result.sort_values(by='Total_Products_Sold', ascending=False)
pivot_table_result.head()








# Show the total sales for the products sold for each region, state, and city.
total_sales_by_location = combined_df.groupby(['region', 'state', 'city'])['total_sales'].sum().reset_index()
# Rename the "total_sales" column to "Total Sales"
total_sales_by_location = total_sales_by_location.rename(columns={'total_sales': 'Total Sales'})

# Show the top 5 results.
top_5_sales = total_sales_by_location.sort_values(by='Total Sales', ascending=False)
top_5_sales.head()





# Show the total sales for the products sold for each region, state, and city.
pivot_table_sales = combined_df.pivot_table(
    values='total_sales', 
    index=['region', 'state', 'city'], 
    aggfunc='sum'
)

# Optional: Rename the "total_sales" column to "Total Sales"
pivot_table_sales = pivot_table_sales.rename(columns={'total_sales': 'Total Sales'})


# Show the top 5 results.
top_5_sales = pivot_table_sales.sort_values(by='Total Sales', ascending=False)
top_5_sales.head()









# Show the total sales for the products sold for each retailer, region, state, and city.
total_sales_by_retailer_location = combined_df.groupby(['retailer', 'region', 'state', 'city'])['total_sales'].sum().reset_index()
# Rename the "total_sales" column to "Total Sales"
total_sales_by_retailer_location = total_sales_by_retailer_location.rename(columns={'total_sales': 'Total Sales'})

# Show the top 5 results.
top_5_sales = total_sales_by_retailer_location.sort_values(by='Total Sales', ascending=False)
top_5_sales.head()





# Show the total sales for the products sold for each retailer, region, state, and city.
pivot_table_sales = combined_df.pivot_table(
    values='total_sales', 
    index=['retailer', 'region', 'state', 'city'], 
    aggfunc='sum'
)

# Optional: Rename the "total_sales" column to "Total Sales"
pivot_table_sales = pivot_table_sales.rename(columns={'total_sales': 'Total Sales'})

# Show the top 5 results.
top_5_sales = pivot_table_sales.sort_values(by='Total Sales', ascending=False)
top_5_sales.head()





# Filter the sales data to get the women's athletic footwear sales data.
womens_footwear_sales = combined_df.loc[combined_df['product'] == "Women's Athletic Footwear"]
womens_footwear_sales





# Show the total number of women's athletic footwear sold for each retailer, region, state, and city.
womens_footwear_units_sold = womens_footwear_sales.groupby(['retailer', 'region', 'state', 'city'])['units_sold'].sum().reset_index()

# Rename the "units_sold" column to "Womens_Footwear_Units_Sold"
womens_footwear_units_sold = womens_footwear_units_sold.rename(columns={'units_sold': 'Womens_Footwear_Units_Sold'})

# Show the top 5 results.
top_5_womens_footwear = womens_footwear_units_sold.sort_values(by='Womens_Footwear_Units_Sold', ascending=False)
top_5_womens_footwear.head()





# Show the total number of women's athletic footwear sold for each retailer, region, state, and city.
pivot_table_womens_footwear = womens_footwear_sales.pivot_table(
    values='units_sold', 
    index=['retailer', 'region', 'state', 'city'], 
    aggfunc='sum'
)


# Rename the "units_sold" column to "Womens_Footwear_Units_Sold"
pivot_table_womens_footwear = pivot_table_womens_footwear.rename(columns={'units_sold': 'Womens_Footwear_Units_Sold'})

# Show the top 5 results.
top_5_womens_footwear = pivot_table_womens_footwear.sort_values(by='Womens_Footwear_Units_Sold', ascending=False)
top_5_womens_footwear.head()





# Create a pivot table with the 'invoice_date' column is the index, and the "total_sales" as the values.
pivot_table_sales_by_date = womens_footwear_sales.pivot_table(
    values='total_sales', 
    index='invoice_date', 
    aggfunc='sum'
)
# Optional: Rename the "total_sales" column to "Total Sales"
pivot_table_sales_by_date = pivot_table_sales_by_date.rename(columns={'total_sales': 'Total Sales'})
# Show the table.
pivot_table_sales_by_date.head(10)


# Resample the pivot table into daily bins, and get the total sales for each day.
daily_sales = pivot_table_sales_by_date.resample('D').sum()

# Sort the resampled pivot table in descending order on "Total Sales".
sorted_daily_sales = daily_sales.sort_values(by='Total Sales', ascending=False)
sorted_daily_sales.head(10)





# Resample the pivot table into weekly bins, and get the total sales for each week.
weekly_sales = pivot_table_sales_by_date.resample('W').sum()


# Sort the resampled pivot table in descending order on "Total Sales".
sorted_weekly_sales = weekly_sales.sort_values(by='Total Sales', ascending=False)
sorted_weekly_sales.head(10)



